{
 "cells": [
  {
   "cell_type": "markdown",
   "id": "19d8e3e4",
   "metadata": {},
   "source": [
    "# Container Sequences:\n",
    "\n",
    "- Hold different types of data.\n",
    "\n",
    "\n",
    "- Used for aggreagation, sorting and many other.\n",
    "\n",
    "## Types:\n",
    "- There are mainly four types of built-in container in python that are\n",
    "\n",
    "1. List              -(**Mutable**\n",
    ", stored multiple data types in sigle list, used Sqr brackets)\n",
    "2. Tuples            -(**Immutable**, used round brackets)\n",
    "3. Set               -(**Mutable**, **Duplicates not allowed**,)\n",
    "4. Dictionaries      -()\n"
   ]
  },
  {
   "cell_type": "markdown",
   "id": "6f66d546",
   "metadata": {},
   "source": [
    "### List:\n"
   ]
  },
  {
   "cell_type": "code",
   "execution_count": 1,
   "id": "d6f2569a",
   "metadata": {},
   "outputs": [],
   "source": [
    "misc = ['Ahmed', 'Sameer', 295, 0.15, True]"
   ]
  },
  {
   "cell_type": "code",
   "execution_count": 2,
   "id": "4956bc80",
   "metadata": {},
   "outputs": [
    {
     "name": "stdout",
     "output_type": "stream",
     "text": [
      "['Ahmed', 'Sameer', 295, 0.15, True] <class 'list'>\n"
     ]
    }
   ],
   "source": [
    "print(misc, type(misc))"
   ]
  },
  {
   "cell_type": "markdown",
   "id": "c654395c",
   "metadata": {},
   "source": [
    "### List.Method:\n",
    " \n",
    " \n",
    "1. Append -(Adds an element at the end of the list)\n",
    "2. Clear  -(Removes all the elements from the list)\n",
    "3. copy   -(Returns a copy of the list)\n",
    "4. Count  -(Returns the number of elements with the specified value)\n",
    "5. extend -(Add the elements of a list (or any iterable), to the end of the current list)\n",
    "6. index  -(Returns the index of the first element with the specified value)\n",
    "7. insert -(Adds an element at the specified position)\n",
    "8. pop    -(Removes the element at the specified position)\n",
    "9. remove -(Removes the first item with the specified value)Reverses the order of the list)\n",
    "10. reverse -(Reverses the order of the list)\n",
    "11. sort  -(Sorts the list)\n"
   ]
  },
  {
   "cell_type": "markdown",
   "id": "0d1ffd12",
   "metadata": {},
   "source": [
    "## Tuples:"
   ]
  },
  {
   "cell_type": "code",
   "execution_count": 3,
   "id": "80f1d52a",
   "metadata": {},
   "outputs": [
    {
     "name": "stdout",
     "output_type": "stream",
     "text": [
      "('kamran', 'junaid', 55.8, False) <class 'tuple'>\n"
     ]
    }
   ],
   "source": [
    "misc = ('kamran', 'junaid', 55.8, False)\n",
    "print(misc, type(misc))"
   ]
  },
  {
   "cell_type": "markdown",
   "id": "310020a9",
   "metadata": {},
   "source": [
    "### Tuples.Methods:\n",
    "\n",
    "1. count()    - (Returns the number of times a specified value occurs in a tuple)\n",
    "2. index()    - (Searches the tuple for a specified value and returns the position of where it                    was found)\n",
    " "
   ]
  },
  {
   "cell_type": "code",
   "execution_count": null,
   "id": "06092f4b",
   "metadata": {},
   "outputs": [],
   "source": []
  },
  {
   "cell_type": "markdown",
   "id": "1d379338",
   "metadata": {},
   "source": [
    "## Sets:\n",
    " - We use sets to stored unique data in unordered fashion.\n",
    " \n",
    " - In sets duplicates are not allowed as similar to mathematic ser theory.\n",
    " \n",
    " - Sets are mutable so can add or removed elements in sets.\n",
    " \n",
    " - Sets are created from a list.\n",
    " \n"
   ]
  },
  {
   "cell_type": "markdown",
   "id": "071c5f69",
   "metadata": {},
   "source": [
    "### SETS.Methods:\n",
    "\n",
    "1. add()\tAdds an element to the set\n",
    "2. clear()\tRemoves all the elements from the set\n",
    "3. copy()\tReturns a copy of the set\n",
    "4. difference()\tReturns a set containing the difference between two or more sets\n",
    "5. difference_update()\tRemoves the items in this set that are also included in another, specified set\n",
    "6. discard()\tRemove the specified item\n",
    "7. intersection()\tReturns a set, that is the intersection of two or more sets\n",
    "8. intersection_update()\tRemoves the items in this set that are not present in other, specified set(s)\n",
    "9. isdisjoint()\tReturns whether two sets have a intersection or not\n",
    "10. issubset()\tReturns whether another set contains this set or not\n",
    "11. issuperset()\tReturns whether this set contains another set or not\n",
    "12. pop()\tRemoves an element from the set\n",
    "13. remove()\tRemoves the specified element\n",
    "14. symmetric_difference()\tReturns a set with the symmetric differences of two sets\n",
    "15. symmetric_difference_update()\tinserts the symmetric differences from this set and another\n",
    "16. union()\tReturn a set containing the union of sets\n",
    "17. update()\tUpdate the set with another set, or any other iterable"
   ]
  },
  {
   "cell_type": "code",
   "execution_count": 4,
   "id": "cf894dcd",
   "metadata": {},
   "outputs": [],
   "source": [
    "# fruit_list = ['apple', 'bannana', 'mango' ]"
   ]
  },
  {
   "cell_type": "code",
   "execution_count": 5,
   "id": "5cdecb8c",
   "metadata": {},
   "outputs": [],
   "source": [
    "# print(fruit_list, type(fruit_list), type(set(fruit_list)))"
   ]
  },
  {
   "cell_type": "markdown",
   "id": "abb163aa",
   "metadata": {},
   "source": []
  },
  {
   "cell_type": "code",
   "execution_count": 6,
   "id": "d65bd96c",
   "metadata": {},
   "outputs": [],
   "source": [
    "name = ['ali', 'FARHAN']"
   ]
  },
  {
   "cell_type": "code",
   "execution_count": null,
   "id": "6980209a",
   "metadata": {},
   "outputs": [],
   "source": []
  }
 ],
 "metadata": {
  "kernelspec": {
   "display_name": "Python 3 (ipykernel)",
   "language": "python",
   "name": "python3"
  },
  "language_info": {
   "codemirror_mode": {
    "name": "ipython",
    "version": 3
   },
   "file_extension": ".py",
   "mimetype": "text/x-python",
   "name": "python",
   "nbconvert_exporter": "python",
   "pygments_lexer": "ipython3",
   "version": "3.9.12"
  }
 },
 "nbformat": 4,
 "nbformat_minor": 5
}
