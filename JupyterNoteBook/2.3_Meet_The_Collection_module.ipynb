{
 "cells": [
  {
   "cell_type": "markdown",
   "id": "7bc54f19",
   "metadata": {},
   "source": [
    "## Counter:\n",
    "\n",
    "1. Counter is python module and part of standard library.\n",
    "\n",
    "\n",
    "2. The Counter module, as the name suggests, can be used to count elements of an iterable (like list, dictionary etc) object in Python. Counter stores each element of an iterable (like a Python list object) as a Python dictionary key. Since Python dictionaries allow only unique keys, there is no repetition.\n",
    " \n"
   ]
  },
  {
   "cell_type": "code",
   "execution_count": 1,
   "id": "a9b7798a",
   "metadata": {},
   "outputs": [
    {
     "name": "stdout",
     "output_type": "stream",
     "text": [
      "['a', 'b', 'c', 'a', 'b', 'a', 'c', 'a']\n"
     ]
    }
   ],
   "source": [
    "lst = [\"a\", \"b\", \"c\", \"a\", \"b\", \"a\", \"c\", \"a\" ]\n",
    "print(lst)"
   ]
  },
  {
   "cell_type": "code",
   "execution_count": 2,
   "id": "1ae8a251",
   "metadata": {},
   "outputs": [],
   "source": [
    "from collections import Counter\n"
   ]
  },
  {
   "cell_type": "code",
   "execution_count": 4,
   "id": "fd766f79",
   "metadata": {},
   "outputs": [
    {
     "name": "stdout",
     "output_type": "stream",
     "text": [
      "Counter({'a': 4, 'b': 2, 'c': 2})\n"
     ]
    }
   ],
   "source": [
    "c_lst = Counter(lst)\n",
    "print(c_lst)      # Counter counter the elements and give us frequency in \n",
    "                  # form of dictionary."
   ]
  },
  {
   "cell_type": "code",
   "execution_count": 6,
   "id": "74aecbbb",
   "metadata": {},
   "outputs": [
    {
     "name": "stdout",
     "output_type": "stream",
     "text": [
      "Counter({'a': 4, 'h': 2, 'm': 2, ' ': 2, 'e': 2, 'M': 1, 'u': 1, 'd': 1, 'Z': 1, 's': 1, 'n': 1, 'A': 1, 'l': 1, 't': 1, 'f': 1})\n"
     ]
    }
   ],
   "source": [
    "name = \"Muhammad Zeeshan Altaf\"\n",
    "print(Counter(name))"
   ]
  },
  {
   "cell_type": "markdown",
   "id": "cebdbf82",
   "metadata": {},
   "source": [
    "### Counter Methods:\n",
    "\n",
    "1. Update() \n",
    "2. most_common(n)\n",
    "3. subtract()\n",
    "4. elements()"
   ]
  },
  {
   "cell_type": "markdown",
   "id": "573d034f",
   "metadata": {},
   "source": [
    "# Defaultdict:\n",
    "\n",
    "    Defaultdict is a container like dictionaries present in the module collections. Defaultdict is a sub-class of the dictionary class that returns a dictionary-like object. The functionality of both dictionaries and defaultdict are almost same except for the fact that defaultdict never raises a KeyError"
   ]
  },
  {
   "cell_type": "code",
   "execution_count": 14,
   "id": "6ea914dc",
   "metadata": {},
   "outputs": [],
   "source": [
    "from collections import defaultdict"
   ]
  },
  {
   "cell_type": "code",
   "execution_count": 15,
   "id": "63644c84",
   "metadata": {},
   "outputs": [
    {
     "name": "stdout",
     "output_type": "stream",
     "text": [
      "{'key1': 'value1', 'key2': 'value2'}\n"
     ]
    }
   ],
   "source": [
    "dict_1 = {\"key1\": \"value1\", \"key2\": \"value2\"}\n",
    "print(dict_1)"
   ]
  },
  {
   "cell_type": "code",
   "execution_count": 16,
   "id": "a8691d2c",
   "metadata": {},
   "outputs": [
    {
     "name": "stdout",
     "output_type": "stream",
     "text": [
      "value1\n"
     ]
    }
   ],
   "source": [
    "print(dict_1[\"key1\"])"
   ]
  },
  {
   "cell_type": "code",
   "execution_count": 17,
   "id": "57c0e906",
   "metadata": {},
   "outputs": [
    {
     "ename": "KeyError",
     "evalue": "'key3'",
     "output_type": "error",
     "traceback": [
      "\u001b[1;31m---------------------------------------------------------------------------\u001b[0m",
      "\u001b[1;31mKeyError\u001b[0m                                  Traceback (most recent call last)",
      "Input \u001b[1;32mIn [17]\u001b[0m, in \u001b[0;36m<cell line: 1>\u001b[1;34m()\u001b[0m\n\u001b[1;32m----> 1\u001b[0m \u001b[38;5;28mprint\u001b[39m(\u001b[43mdict_1\u001b[49m\u001b[43m[\u001b[49m\u001b[38;5;124;43m\"\u001b[39;49m\u001b[38;5;124;43mkey3\u001b[39;49m\u001b[38;5;124;43m\"\u001b[39;49m\u001b[43m]\u001b[49m)\n",
      "\u001b[1;31mKeyError\u001b[0m: 'key3'"
     ]
    }
   ],
   "source": [
    "print(dict_1[\"key3\"]) # Get key error"
   ]
  },
  {
   "cell_type": "code",
   "execution_count": 35,
   "id": "e4890001",
   "metadata": {},
   "outputs": [
    {
     "name": "stdout",
     "output_type": "stream",
     "text": [
      "defaultdict(<class 'list'>, {})\n"
     ]
    }
   ],
   "source": [
    "dic_2 = defaultdict(list)\n",
    "print(dic_2)"
   ]
  },
  {
   "cell_type": "code",
   "execution_count": 36,
   "id": "e5c6ddbf",
   "metadata": {},
   "outputs": [
    {
     "name": "stdout",
     "output_type": "stream",
     "text": [
      "defaultdict(<class 'list'>, {'key1': '10', 'key2': '29.5', 'key3': '3'})\n"
     ]
    }
   ],
   "source": [
    "dic_2[\"key1\"] = \"10\"\n",
    "dic_2[\"key2\"] = \"29.5\"\n",
    "dic_2[\"key3\"] = \"3\"\n",
    "print(dic_2)"
   ]
  },
  {
   "cell_type": "code",
   "execution_count": 37,
   "id": "069470f8",
   "metadata": {},
   "outputs": [],
   "source": [
    "dic_2[\"key1\"] = \"value1\""
   ]
  },
  {
   "cell_type": "code",
   "execution_count": 38,
   "id": "fb411195",
   "metadata": {},
   "outputs": [
    {
     "data": {
      "text/plain": [
       "'29.5'"
      ]
     },
     "execution_count": 38,
     "metadata": {},
     "output_type": "execute_result"
    }
   ],
   "source": [
    "dic_2[\"key2\"]"
   ]
  },
  {
   "cell_type": "code",
   "execution_count": 39,
   "id": "a5fe61a1",
   "metadata": {},
   "outputs": [
    {
     "data": {
      "text/plain": [
       "'3'"
      ]
     },
     "execution_count": 39,
     "metadata": {},
     "output_type": "execute_result"
    }
   ],
   "source": [
    "dic_2[\"key3\"]       # Dont get Error. "
   ]
  },
  {
   "cell_type": "markdown",
   "id": "350a4dd8",
   "metadata": {},
   "source": [
    "\n",
    "# Ordereddict:\n",
    "- An OrderedDict is a dictionary subclass that remembers the order that keys were first inserted. The only difference between dict() and OrderedDict() is that:\n",
    "\n",
    "- OrderedDict preserves the order in which the keys are inserted. A regular dict doesn’t track the insertion order and iterating it gives the values in an arbitrary order. By contrast, the order the items are inserted is remembered by OrderedDict."
   ]
  },
  {
   "cell_type": "markdown",
   "id": "891ba6b0",
   "metadata": {},
   "source": [
    "# NamedTuple:\n",
    "\n",
    "-  The NamedTuple is another class, under the collections module. Like the dictionary type objects, it contains keys and that are mapped to some values. In this case we can access the elements using keys and indexes. To use it at first we need to import it the collections standard library module"
   ]
  },
  {
   "cell_type": "code",
   "execution_count": null,
   "id": "ad1049aa",
   "metadata": {},
   "outputs": [],
   "source": []
  }
 ],
 "metadata": {
  "kernelspec": {
   "display_name": "Python 3 (ipykernel)",
   "language": "python",
   "name": "python3"
  },
  "language_info": {
   "codemirror_mode": {
    "name": "ipython",
    "version": 3
   },
   "file_extension": ".py",
   "mimetype": "text/x-python",
   "name": "python",
   "nbconvert_exporter": "python",
   "pygments_lexer": "ipython3",
   "version": "3.9.12"
  }
 },
 "nbformat": 4,
 "nbformat_minor": 5
}
