{
 "cells": [
  {
   "cell_type": "markdown",
   "id": "6eab0553",
   "metadata": {},
   "source": [
    "# Dictionaries:\n",
    "\n",
    "- Dictionary basically a key value pair.\n",
    "- (name : zeeshan), here key is name and value is zeeshan.\n",
    "- We can assign multiple values correspondence to a single key."
   ]
  },
  {
   "cell_type": "code",
   "execution_count": 1,
   "id": "eafabe1f",
   "metadata": {},
   "outputs": [],
   "source": [
    "dict_1 = {\"color\": \"red\", \"fruit\":'apple', 'species':'dog'}"
   ]
  },
  {
   "cell_type": "code",
   "execution_count": 2,
   "id": "8e1e1273",
   "metadata": {},
   "outputs": [
    {
     "name": "stdout",
     "output_type": "stream",
     "text": [
      "{'color': 'red', 'fruit': 'apple', 'species': 'dog'}\n"
     ]
    }
   ],
   "source": [
    "print(dict_1)"
   ]
  },
  {
   "cell_type": "code",
   "execution_count": 3,
   "id": "6e2f8b9d",
   "metadata": {},
   "outputs": [
    {
     "name": "stdout",
     "output_type": "stream",
     "text": [
      "{'color': 'green', 'fruit': 'apple', 'species': 'dog'}\n"
     ]
    }
   ],
   "source": [
    "dict_1['color'] = 'green'\n",
    "print(dict_1)"
   ]
  },
  {
   "cell_type": "code",
   "execution_count": 4,
   "id": "63277b99",
   "metadata": {},
   "outputs": [
    {
     "data": {
      "text/plain": [
       "dict_values(['green', 'apple', 'dog'])"
      ]
     },
     "execution_count": 4,
     "metadata": {},
     "output_type": "execute_result"
    }
   ],
   "source": [
    "dict_1.values()"
   ]
  },
  {
   "cell_type": "code",
   "execution_count": 5,
   "id": "61c4d306",
   "metadata": {},
   "outputs": [
    {
     "data": {
      "text/plain": [
       "dict_keys(['color', 'fruit', 'species'])"
      ]
     },
     "execution_count": 5,
     "metadata": {},
     "output_type": "execute_result"
    }
   ],
   "source": [
    "dict_1.keys()"
   ]
  },
  {
   "cell_type": "code",
   "execution_count": 6,
   "id": "8e396ffd",
   "metadata": {},
   "outputs": [
    {
     "name": "stdout",
     "output_type": "stream",
     "text": [
      "color\n",
      "fruit\n",
      "species\n"
     ]
    }
   ],
   "source": [
    "for keys in dict_1:\n",
    "    print(keys)"
   ]
  },
  {
   "cell_type": "code",
   "execution_count": 7,
   "id": "03cdee8f",
   "metadata": {},
   "outputs": [
    {
     "name": "stdout",
     "output_type": "stream",
     "text": [
      "color --> green\n",
      "fruit --> apple\n",
      "species --> dog\n"
     ]
    }
   ],
   "source": [
    "for keys in dict_1:\n",
    "    print(keys, '-->' ,dict_1[keys])"
   ]
  },
  {
   "cell_type": "code",
   "execution_count": 8,
   "id": "eeaeb0eb",
   "metadata": {},
   "outputs": [
    {
     "data": {
      "text/plain": [
       "'green'"
      ]
     },
     "execution_count": 8,
     "metadata": {},
     "output_type": "execute_result"
    }
   ],
   "source": [
    "dict_1['color']"
   ]
  },
  {
   "cell_type": "code",
   "execution_count": 9,
   "id": "4fa2449c",
   "metadata": {},
   "outputs": [
    {
     "name": "stdout",
     "output_type": "stream",
     "text": [
      "('color', 'green') <class 'tuple'>\n",
      "('fruit', 'apple') <class 'tuple'>\n",
      "('species', 'dog') <class 'tuple'>\n"
     ]
    }
   ],
   "source": [
    "for item in dict_1.items():\n",
    "    print(item, type(item))"
   ]
  },
  {
   "cell_type": "code",
   "execution_count": 10,
   "id": "8a182218",
   "metadata": {},
   "outputs": [
    {
     "ename": "SyntaxError",
     "evalue": "unmatched ')' (1345271981.py, line 1)",
     "output_type": "error",
     "traceback": [
      "\u001b[1;36m  Input \u001b[1;32mIn [10]\u001b[1;36m\u001b[0m\n\u001b[1;33m    for key, value in dict_1.items()):\u001b[0m\n\u001b[1;37m                                    ^\u001b[0m\n\u001b[1;31mSyntaxError\u001b[0m\u001b[1;31m:\u001b[0m unmatched ')'\n"
     ]
    }
   ],
   "source": [
    "for key, value in dict_1.items()):\n",
    "    print(key, value)"
   ]
  },
  {
   "cell_type": "code",
   "execution_count": null,
   "id": "0f246b65",
   "metadata": {},
   "outputs": [],
   "source": [
    "dict_1.get(\"id\", \"not available \")"
   ]
  },
  {
   "cell_type": "code",
   "execution_count": null,
   "id": "90229937",
   "metadata": {},
   "outputs": [],
   "source": [
    "dict_1.get(\"color\", \"not available \")"
   ]
  },
  {
   "cell_type": "code",
   "execution_count": null,
   "id": "eeae42b8",
   "metadata": {},
   "outputs": [],
   "source": [
    "names_list = ['zeeshan', 'owais', 'sameer', 'faraz']\n",
    "f_name_list = ['altaf', 'khalid', 'sadiq', 'bashir']"
   ]
  },
  {
   "cell_type": "code",
   "execution_count": null,
   "id": "151a4940",
   "metadata": {},
   "outputs": [],
   "source": [
    "full_names = dict(zip(names_list,f_name_list))  # We use zip fnc to prepare pair."
   ]
  },
  {
   "cell_type": "code",
   "execution_count": null,
   "id": "288e804e",
   "metadata": {},
   "outputs": [],
   "source": [
    "print(full_names)"
   ]
  },
  {
   "cell_type": "code",
   "execution_count": null,
   "id": "c12b9020",
   "metadata": {},
   "outputs": [],
   "source": [
    "print(list(zip(names_list,f_name_list)))"
   ]
  },
  {
   "cell_type": "code",
   "execution_count": null,
   "id": "873d9024",
   "metadata": {},
   "outputs": [],
   "source": [
    "# del full_names['zeeshan'] # delete key"
   ]
  },
  {
   "cell_type": "code",
   "execution_count": null,
   "id": "582ecdb9",
   "metadata": {},
   "outputs": [],
   "source": [
    "print(full_names)"
   ]
  },
  {
   "cell_type": "code",
   "execution_count": null,
   "id": "04599ad5",
   "metadata": {},
   "outputs": [],
   "source": [
    "full_names['abdullah'] = 'naeem' # add new key at last position"
   ]
  },
  {
   "cell_type": "code",
   "execution_count": null,
   "id": "0f10d9c6",
   "metadata": {},
   "outputs": [],
   "source": [
    "print(full_names)"
   ]
  },
  {
   "cell_type": "code",
   "execution_count": null,
   "id": "d45888c8",
   "metadata": {},
   "outputs": [],
   "source": [
    "print(sorted(full_names.items(), reverse = True))"
   ]
  },
  {
   "cell_type": "code",
   "execution_count": null,
   "id": "1388c698",
   "metadata": {},
   "outputs": [],
   "source": [
    "print(full_names.keys())\n"
   ]
  },
  {
   "cell_type": "code",
   "execution_count": null,
   "id": "b8cb0a46",
   "metadata": {},
   "outputs": [],
   "source": []
  },
  {
   "cell_type": "code",
   "execution_count": null,
   "id": "d30af632",
   "metadata": {},
   "outputs": [],
   "source": []
  },
  {
   "cell_type": "code",
   "execution_count": null,
   "id": "ab04a2d2",
   "metadata": {},
   "outputs": [],
   "source": [
    "full_names,type(keys)"
   ]
  },
  {
   "cell_type": "code",
   "execution_count": null,
   "id": "f72db810",
   "metadata": {},
   "outputs": [],
   "source": [
    "# How to add element in dictionary."
   ]
  },
  {
   "cell_type": "code",
   "execution_count": null,
   "id": "41690652",
   "metadata": {},
   "outputs": [],
   "source": [
    "dict_2 = {}\n",
    "dict_2[\"name\"] = \"zeeshan\"\n",
    "print(dict_2)"
   ]
  },
  {
   "cell_type": "markdown",
   "id": "8ad70eb2",
   "metadata": {},
   "source": [
    "\n",
    "## ALTERING DICTIONARIES:"
   ]
  },
  {
   "cell_type": "code",
   "execution_count": 12,
   "id": "2a0eba48",
   "metadata": {},
   "outputs": [],
   "source": [
    "dict_5 ={\"key1\": \"value1\", \"key2\": \"value2\"}"
   ]
  },
  {
   "cell_type": "code",
   "execution_count": 13,
   "id": "259f365c",
   "metadata": {},
   "outputs": [
    {
     "name": "stdout",
     "output_type": "stream",
     "text": [
      "{'key1': 'value1', 'key2': 'value2'}\n"
     ]
    }
   ],
   "source": [
    "print(dict_5)\n"
   ]
  },
  {
   "cell_type": "code",
   "execution_count": 18,
   "id": "9ff46ae8",
   "metadata": {},
   "outputs": [
    {
     "name": "stdout",
     "output_type": "stream",
     "text": [
      "{'key1': 'value1', 'key2': 'value2', 'key3': 'value3'}\n"
     ]
    }
   ],
   "source": [
    "dict_5[\"key3\"] = \"value3\"        # Adding new value.\n",
    "print(dict_5)                 "
   ]
  },
  {
   "cell_type": "markdown",
   "id": "d66471d2",
   "metadata": {},
   "source": [
    "## Add new values using update method by passing list of tuples.\n",
    "\n"
   ]
  },
  {
   "cell_type": "code",
   "execution_count": 22,
   "id": "40d8f77d",
   "metadata": {},
   "outputs": [
    {
     "name": "stdout",
     "output_type": "stream",
     "text": [
      "{'key1': 'value1', 'key2': 'value2', 'key3': 'value3', 'key4': 'value4', 'key5': 'value5'}\n"
     ]
    }
   ],
   "source": [
    "dict_5.update([(\"key4\",\"value4\"), (\"key5\", \"value5\")])\n",
    "print(dict_5)\n"
   ]
  },
  {
   "cell_type": "markdown",
   "id": "f335a5b2",
   "metadata": {},
   "source": [
    "## Deleting Dictionary elements using \"del\" function:\n",
    "\n",
    "- del gives error when deleting element not exist."
   ]
  },
  {
   "cell_type": "code",
   "execution_count": 30,
   "id": "f72d2f74",
   "metadata": {},
   "outputs": [
    {
     "name": "stdout",
     "output_type": "stream",
     "text": [
      "{'key3': 'value3', 'key4': 'value4', 'key5': 'value5'}\n"
     ]
    }
   ],
   "source": [
    "#v = dict_5.pop(\"key2\")\n",
    "print(dict_5)"
   ]
  },
  {
   "cell_type": "code",
   "execution_count": 27,
   "id": "6751d0ee",
   "metadata": {},
   "outputs": [
    {
     "name": "stdout",
     "output_type": "stream",
     "text": [
      "{'key2': 'value2', 'key3': 'value3', 'key4': 'value4', 'key5': 'value5'}\n"
     ]
    }
   ],
   "source": [
    "# SYNTAX:\n",
    "\n",
    "# del dict_5[\"key1\"]\n",
    "\n",
    "print(dict_5)"
   ]
  },
  {
   "cell_type": "markdown",
   "id": "bd561a7f",
   "metadata": {},
   "source": [
    "## Deleting Dictionary elements using Pop method:"
   ]
  },
  {
   "cell_type": "code",
   "execution_count": 35,
   "id": "6c85adc7",
   "metadata": {},
   "outputs": [
    {
     "name": "stdout",
     "output_type": "stream",
     "text": [
      "{'key3': 'value3', 'key4': 'value4', 'key5': 'value5'}\n"
     ]
    }
   ],
   "source": [
    "# Syntax \n",
    "                            ## we can also stores deleted value of key by assigning variable.\n",
    "# v = dic_5.pop(\"key2\")\n",
    "print(dict_5)"
   ]
  },
  {
   "cell_type": "code",
   "execution_count": 36,
   "id": "8badc06d",
   "metadata": {},
   "outputs": [
    {
     "data": {
      "text/plain": [
       "'value2'"
      ]
     },
     "execution_count": 36,
     "metadata": {},
     "output_type": "execute_result"
    }
   ],
   "source": [
    "v"
   ]
  },
  {
   "cell_type": "raw",
   "id": "c67621d4",
   "metadata": {},
   "source": []
  }
 ],
 "metadata": {
  "kernelspec": {
   "display_name": "Python 3 (ipykernel)",
   "language": "python",
   "name": "python3"
  },
  "language_info": {
   "codemirror_mode": {
    "name": "ipython",
    "version": 3
   },
   "file_extension": ".py",
   "mimetype": "text/x-python",
   "name": "python",
   "nbconvert_exporter": "python",
   "pygments_lexer": "ipython3",
   "version": "3.9.12"
  }
 },
 "nbformat": 4,
 "nbformat_minor": 5
}
