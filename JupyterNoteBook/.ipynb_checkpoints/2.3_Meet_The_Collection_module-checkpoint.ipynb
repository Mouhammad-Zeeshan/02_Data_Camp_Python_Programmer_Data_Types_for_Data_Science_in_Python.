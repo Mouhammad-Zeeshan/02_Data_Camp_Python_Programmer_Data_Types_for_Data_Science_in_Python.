{
 "cells": [
  {
   "cell_type": "markdown",
   "id": "d93ca4ce",
   "metadata": {},
   "source": [
    "## Counter:\n",
    "\n",
    "1. Counter is python module and part of standard library.\n",
    "\n",
    "\n",
    "2. The Counter module, as the name suggests, can be used to count elements of an iterable (like list, dictionary etc) object in Python. Counter stores each element of an iterable (like a Python list object) as a Python dictionary key. Since Python dictionaries allow only unique keys, there is no repetition.\n",
    " \n"
   ]
  },
  {
   "cell_type": "code",
   "execution_count": 1,
   "id": "0bdf5824",
   "metadata": {},
   "outputs": [
    {
     "name": "stdout",
     "output_type": "stream",
     "text": [
      "['a', 'b', 'c', 'a', 'b', 'a', 'c', 'a']\n"
     ]
    }
   ],
   "source": [
    "lst = [\"a\", \"b\", \"c\", \"a\", \"b\", \"a\", \"c\", \"a\" ]\n",
    "print(lst)"
   ]
  },
  {
   "cell_type": "code",
   "execution_count": 2,
   "id": "3e146f67",
   "metadata": {},
   "outputs": [],
   "source": [
    "from collections import Counter\n"
   ]
  },
  {
   "cell_type": "code",
   "execution_count": 4,
   "id": "7b5ddbc4",
   "metadata": {},
   "outputs": [
    {
     "name": "stdout",
     "output_type": "stream",
     "text": [
      "Counter({'a': 4, 'b': 2, 'c': 2})\n"
     ]
    }
   ],
   "source": [
    "c_lst = Counter(lst)\n",
    "print(c_lst)      # Counter counter the elements and give us frequency in \n",
    "                  # form of dictionary."
   ]
  },
  {
   "cell_type": "code",
   "execution_count": 6,
   "id": "ff4e8506",
   "metadata": {},
   "outputs": [
    {
     "name": "stdout",
     "output_type": "stream",
     "text": [
      "Counter({'a': 4, 'h': 2, 'm': 2, ' ': 2, 'e': 2, 'M': 1, 'u': 1, 'd': 1, 'Z': 1, 's': 1, 'n': 1, 'A': 1, 'l': 1, 't': 1, 'f': 1})\n"
     ]
    }
   ],
   "source": [
    "name = \"Muhammad Zeeshan Altaf\"\n",
    "print(Counter(name))"
   ]
  },
  {
   "cell_type": "markdown",
   "id": "29fed4ff",
   "metadata": {},
   "source": [
    "### Counter Methods:\n",
    "\n",
    "1. "
   ]
  },
  {
   "cell_type": "code",
   "execution_count": null,
   "id": "5b160164",
   "metadata": {},
   "outputs": [],
   "source": []
  }
 ],
 "metadata": {
  "kernelspec": {
   "display_name": "Python 3 (ipykernel)",
   "language": "python",
   "name": "python3"
  },
  "language_info": {
   "codemirror_mode": {
    "name": "ipython",
    "version": 3
   },
   "file_extension": ".py",
   "mimetype": "text/x-python",
   "name": "python",
   "nbconvert_exporter": "python",
   "pygments_lexer": "ipython3",
   "version": "3.9.12"
  }
 },
 "nbformat": 4,
 "nbformat_minor": 5
}
