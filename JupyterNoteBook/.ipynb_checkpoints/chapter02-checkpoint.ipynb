{
 "cells": [
  {
   "cell_type": "code",
   "execution_count": 1,
   "id": "3d4655ab",
   "metadata": {},
   "outputs": [],
   "source": [
    "fruits_names = [\"Apple\", \"Banana\", \"Mango\"]"
   ]
  },
  {
   "cell_type": "code",
   "execution_count": 3,
   "id": "d21d4ae7",
   "metadata": {},
   "outputs": [
    {
     "name": "stdout",
     "output_type": "stream",
     "text": [
      "Apple\n",
      "Banana\n",
      "Mango\n"
     ]
    }
   ],
   "source": [
    "for fruit in fruits_names:\n",
    "    print(fruit)"
   ]
  },
  {
   "cell_type": "code",
   "execution_count": 4,
   "id": "c37984a7",
   "metadata": {},
   "outputs": [],
   "source": [
    "fruits_names.append(\"Peach\")"
   ]
  },
  {
   "cell_type": "code",
   "execution_count": 5,
   "id": "609922a8",
   "metadata": {},
   "outputs": [
    {
     "data": {
      "text/plain": [
       "['Apple', 'Banana', 'Mango', 'Peach']"
      ]
     },
     "execution_count": 5,
     "metadata": {},
     "output_type": "execute_result"
    }
   ],
   "source": [
    "fruits_names"
   ]
  },
  {
   "cell_type": "code",
   "execution_count": 9,
   "id": "86bce9be",
   "metadata": {},
   "outputs": [
    {
     "data": {
      "text/plain": [
       "<function list.sort(*, key=None, reverse=False)>"
      ]
     },
     "execution_count": 9,
     "metadata": {},
     "output_type": "execute_result"
    }
   ],
   "source": [
    "fruits_names.sort"
   ]
  },
  {
   "cell_type": "code",
   "execution_count": null,
   "id": "368fd594",
   "metadata": {},
   "outputs": [],
   "source": []
  }
 ],
 "metadata": {
  "kernelspec": {
   "display_name": "Python 3 (ipykernel)",
   "language": "python",
   "name": "python3"
  },
  "language_info": {
   "codemirror_mode": {
    "name": "ipython",
    "version": 3
   },
   "file_extension": ".py",
   "mimetype": "text/x-python",
   "name": "python",
   "nbconvert_exporter": "python",
   "pygments_lexer": "ipython3",
   "version": "3.9.12"
  }
 },
 "nbformat": 4,
 "nbformat_minor": 5
}
