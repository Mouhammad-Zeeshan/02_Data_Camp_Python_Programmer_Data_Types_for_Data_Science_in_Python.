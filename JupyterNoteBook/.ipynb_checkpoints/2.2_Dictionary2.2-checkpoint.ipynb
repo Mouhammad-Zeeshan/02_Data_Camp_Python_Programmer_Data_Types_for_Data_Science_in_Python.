{
 "cells": [
  {
   "cell_type": "markdown",
   "id": "6eab0553",
   "metadata": {},
   "source": [
    "# Dictionaries:\n",
    "\n",
    "- Dictionary basically a key value pair.\n",
    "- (name : zeeshan), here key is name and value is zeeshan.\n",
    "- We can assign multiple values correspondence to a single key."
   ]
  },
  {
   "cell_type": "code",
   "execution_count": 4,
   "id": "eafabe1f",
   "metadata": {},
   "outputs": [],
   "source": [
    "dict_1 = {\"color\": \"red\", \"fruit\":'apple', 'species':'dog'}"
   ]
  },
  {
   "cell_type": "code",
   "execution_count": 5,
   "id": "8e1e1273",
   "metadata": {},
   "outputs": [
    {
     "name": "stdout",
     "output_type": "stream",
     "text": [
      "{'color': 'red', 'fruit': 'apple', 'species': 'dog'}\n"
     ]
    }
   ],
   "source": [
    "print(dict_1)"
   ]
  },
  {
   "cell_type": "code",
   "execution_count": 11,
   "id": "6e2f8b9d",
   "metadata": {},
   "outputs": [
    {
     "name": "stdout",
     "output_type": "stream",
     "text": [
      "{'color': 'green', 'fruit': 'apple', 'species': 'dog'}\n"
     ]
    }
   ],
   "source": [
    "dict_1['color'] = 'green'\n",
    "print(dict_1)"
   ]
  },
  {
   "cell_type": "code",
   "execution_count": 12,
   "id": "63277b99",
   "metadata": {},
   "outputs": [
    {
     "data": {
      "text/plain": [
       "dict_values(['green', 'apple', 'dog'])"
      ]
     },
     "execution_count": 12,
     "metadata": {},
     "output_type": "execute_result"
    }
   ],
   "source": [
    "dict_1.values()"
   ]
  },
  {
   "cell_type": "code",
   "execution_count": 13,
   "id": "61c4d306",
   "metadata": {},
   "outputs": [
    {
     "data": {
      "text/plain": [
       "dict_keys(['color', 'fruit', 'species'])"
      ]
     },
     "execution_count": 13,
     "metadata": {},
     "output_type": "execute_result"
    }
   ],
   "source": [
    "dict_1.keys()"
   ]
  },
  {
   "cell_type": "code",
   "execution_count": 20,
   "id": "8e396ffd",
   "metadata": {},
   "outputs": [
    {
     "name": "stdout",
     "output_type": "stream",
     "text": [
      "color\n",
      "fruit\n",
      "species\n"
     ]
    }
   ],
   "source": [
    "for keys in dict_1:\n",
    "    print(keys)"
   ]
  },
  {
   "cell_type": "code",
   "execution_count": 26,
   "id": "03cdee8f",
   "metadata": {},
   "outputs": [
    {
     "name": "stdout",
     "output_type": "stream",
     "text": [
      "color --> green\n",
      "fruit --> apple\n",
      "species --> dog\n"
     ]
    }
   ],
   "source": [
    "for keys in dict_1:\n",
    "    print(keys, '-->' ,dict_1[keys])"
   ]
  },
  {
   "cell_type": "code",
   "execution_count": 23,
   "id": "eeaeb0eb",
   "metadata": {},
   "outputs": [
    {
     "data": {
      "text/plain": [
       "'green'"
      ]
     },
     "execution_count": 23,
     "metadata": {},
     "output_type": "execute_result"
    }
   ],
   "source": [
    "dict_1['color']"
   ]
  },
  {
   "cell_type": "code",
   "execution_count": 28,
   "id": "4fa2449c",
   "metadata": {},
   "outputs": [
    {
     "name": "stdout",
     "output_type": "stream",
     "text": [
      "('color', 'green') <class 'tuple'>\n",
      "('fruit', 'apple') <class 'tuple'>\n",
      "('species', 'dog') <class 'tuple'>\n"
     ]
    }
   ],
   "source": [
    "for item in dict_1.items():\n",
    "    print(item, type(item))"
   ]
  },
  {
   "cell_type": "code",
   "execution_count": 32,
   "id": "8a182218",
   "metadata": {},
   "outputs": [
    {
     "name": "stdout",
     "output_type": "stream",
     "text": [
      "color green\n",
      "fruit apple\n",
      "species dog\n"
     ]
    }
   ],
   "source": [
    "for key, value in dict_1.items()):\n",
    "    print(key, value)"
   ]
  },
  {
   "cell_type": "code",
   "execution_count": 34,
   "id": "0f246b65",
   "metadata": {},
   "outputs": [
    {
     "data": {
      "text/plain": [
       "'not available '"
      ]
     },
     "execution_count": 34,
     "metadata": {},
     "output_type": "execute_result"
    }
   ],
   "source": [
    "dict_1.get(\"id\", \"not available \")"
   ]
  },
  {
   "cell_type": "code",
   "execution_count": 35,
   "id": "90229937",
   "metadata": {},
   "outputs": [
    {
     "data": {
      "text/plain": [
       "'green'"
      ]
     },
     "execution_count": 35,
     "metadata": {},
     "output_type": "execute_result"
    }
   ],
   "source": [
    "dict_1.get(\"color\", \"not available \")"
   ]
  },
  {
   "cell_type": "code",
   "execution_count": 37,
   "id": "eeae42b8",
   "metadata": {},
   "outputs": [],
   "source": [
    "names_list = ['zeeshan', 'owais', 'sameer', 'faraz']\n",
    "f_name_list = ['altaf', 'khalid', 'sadiq', 'bashir']"
   ]
  },
  {
   "cell_type": "code",
   "execution_count": 44,
   "id": "151a4940",
   "metadata": {},
   "outputs": [],
   "source": [
    "full_names = dict(zip(names_list,f_name_list))  # We use zip fnc to prepare pair."
   ]
  },
  {
   "cell_type": "code",
   "execution_count": 45,
   "id": "288e804e",
   "metadata": {},
   "outputs": [
    {
     "name": "stdout",
     "output_type": "stream",
     "text": [
      "{'zeeshan': 'altaf', 'owais': 'khalid', 'sameer': 'sadiq', 'faraz': 'bashir'}\n"
     ]
    }
   ],
   "source": [
    "print(full_names)"
   ]
  },
  {
   "cell_type": "code",
   "execution_count": 46,
   "id": "c12b9020",
   "metadata": {},
   "outputs": [
    {
     "name": "stdout",
     "output_type": "stream",
     "text": [
      "[('zeeshan', 'altaf'), ('owais', 'khalid'), ('sameer', 'sadiq'), ('faraz', 'bashir')]\n"
     ]
    }
   ],
   "source": [
    "print(list(zip(names_list,f_name_list)))"
   ]
  },
  {
   "cell_type": "code",
   "execution_count": 56,
   "id": "873d9024",
   "metadata": {},
   "outputs": [
    {
     "ename": "KeyError",
     "evalue": "'zeeshan'",
     "output_type": "error",
     "traceback": [
      "\u001b[1;31m---------------------------------------------------------------------------\u001b[0m",
      "\u001b[1;31mKeyError\u001b[0m                                  Traceback (most recent call last)",
      "Input \u001b[1;32mIn [56]\u001b[0m, in \u001b[0;36m<cell line: 1>\u001b[1;34m()\u001b[0m\n\u001b[1;32m----> 1\u001b[0m \u001b[38;5;28;01mdel\u001b[39;00m full_names[\u001b[38;5;124m'\u001b[39m\u001b[38;5;124mzeeshan\u001b[39m\u001b[38;5;124m'\u001b[39m]\n",
      "\u001b[1;31mKeyError\u001b[0m: 'zeeshan'"
     ]
    }
   ],
   "source": [
    "# del full_names['zeeshan'] # delete key"
   ]
  },
  {
   "cell_type": "code",
   "execution_count": 55,
   "id": "582ecdb9",
   "metadata": {},
   "outputs": [
    {
     "name": "stdout",
     "output_type": "stream",
     "text": [
      "{'owais': 'khalid', 'sameer': 'sadiq', 'faraz': 'bashir'}\n"
     ]
    }
   ],
   "source": [
    "print(full_names)"
   ]
  },
  {
   "cell_type": "code",
   "execution_count": 59,
   "id": "04599ad5",
   "metadata": {},
   "outputs": [],
   "source": [
    "full_names['abdullah'] = 'naeem' # add new key at last position"
   ]
  },
  {
   "cell_type": "code",
   "execution_count": 58,
   "id": "0f10d9c6",
   "metadata": {},
   "outputs": [
    {
     "name": "stdout",
     "output_type": "stream",
     "text": [
      "{'owais': 'khalid', 'sameer': 'sadiq', 'faraz': 'bashir', 'abdullah': 'naeem'}\n"
     ]
    }
   ],
   "source": [
    "print(full_names)"
   ]
  },
  {
   "cell_type": "code",
   "execution_count": 70,
   "id": "d45888c8",
   "metadata": {},
   "outputs": [
    {
     "name": "stdout",
     "output_type": "stream",
     "text": [
      "[('sameer', 'sadiq'), ('owais', 'khalid'), ('faraz', 'bashir'), ('abdullah', 'naeem')]\n"
     ]
    }
   ],
   "source": [
    "print(sorted(full_names.items(), reverse = True))"
   ]
  },
  {
   "cell_type": "code",
   "execution_count": 66,
   "id": "1388c698",
   "metadata": {},
   "outputs": [
    {
     "name": "stdout",
     "output_type": "stream",
     "text": [
      "dict_keys(['owais', 'sameer', 'faraz', 'abdullah'])\n"
     ]
    }
   ],
   "source": [
    "print(full_names.keys())\n"
   ]
  },
  {
   "cell_type": "code",
   "execution_count": null,
   "id": "b8cb0a46",
   "metadata": {},
   "outputs": [],
   "source": []
  },
  {
   "cell_type": "code",
   "execution_count": null,
   "id": "d30af632",
   "metadata": {},
   "outputs": [],
   "source": []
  },
  {
   "cell_type": "code",
   "execution_count": 75,
   "id": "ab04a2d2",
   "metadata": {},
   "outputs": [
    {
     "data": {
      "text/plain": [
       "({'owais': 'khalid',\n",
       "  'sameer': 'sadiq',\n",
       "  'faraz': 'bashir',\n",
       "  'abdullah': 'naeem'},\n",
       " str)"
      ]
     },
     "execution_count": 75,
     "metadata": {},
     "output_type": "execute_result"
    }
   ],
   "source": [
    "full_names,type(keys)"
   ]
  },
  {
   "cell_type": "code",
   "execution_count": null,
   "id": "f72db810",
   "metadata": {},
   "outputs": [],
   "source": []
  }
 ],
 "metadata": {
  "kernelspec": {
   "display_name": "Python 3 (ipykernel)",
   "language": "python",
   "name": "python3"
  },
  "language_info": {
   "codemirror_mode": {
    "name": "ipython",
    "version": 3
   },
   "file_extension": ".py",
   "mimetype": "text/x-python",
   "name": "python",
   "nbconvert_exporter": "python",
   "pygments_lexer": "ipython3",
   "version": "3.9.12"
  }
 },
 "nbformat": 4,
 "nbformat_minor": 5
}
