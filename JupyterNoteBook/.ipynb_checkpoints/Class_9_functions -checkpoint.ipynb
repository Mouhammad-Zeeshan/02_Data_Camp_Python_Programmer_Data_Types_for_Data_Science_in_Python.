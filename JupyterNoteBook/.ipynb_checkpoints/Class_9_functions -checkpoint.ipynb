{
 "cells": [
  {
   "cell_type": "markdown",
   "id": "60ca6a90",
   "metadata": {},
   "source": [
    "# FUNCTIONS:\n"
   ]
  },
  {
   "cell_type": "markdown",
   "id": "832451f8",
   "metadata": {},
   "source": [
    "### Non-return function with required arguments"
   ]
  },
  {
   "cell_type": "raw",
   "id": "b1df8ef2",
   "metadata": {},
   "source": [
    " def function_name(argument1,argument2,..):# function decriration\n",
    "    # function body start\n",
    "    print(argument1, argument2)# statment1\n",
    "    print(\"line1\")             #statment2\n",
    "    print(\"line2\")             #statment3\n",
    "    # end function body\n",
    "    \n",
    "function_name(1,2 )  # fucntion calling  \n",
    "function_name(\"A\",\"B\")  # fucntion calling"
   ]
  },
  {
   "cell_type": "code",
   "execution_count": null,
   "id": "9ae1d40c",
   "metadata": {},
   "outputs": [],
   "source": [
    "def addition(num1,num2):\n",
    "    print(num1 + num2 )\n",
    "    \n",
    "addition(1,7)    \n",
    "addition(8,2)\n",
    "# print(num1, num2) variable local scope (only call within function body)\n",
    "abc = addition(20,30)\n",
    "print(abc)"
   ]
  },
  {
   "cell_type": "markdown",
   "id": "f24a7e87",
   "metadata": {},
   "source": [
    "### Return function with required arguments"
   ]
  },
  {
   "cell_type": "code",
   "execution_count": null,
   "id": "088e498c",
   "metadata": {},
   "outputs": [],
   "source": [
    "def addition(num1,num2):\n",
    "    return num1 + num2\n",
    "    \n",
    "addition(1,7)    \n",
    "addition(8,2)\n",
    "# print(num1, num2) variable local scope (only call within function body)\n",
    "abc = addition(20,30)\n",
    "print(abc)"
   ]
  },
  {
   "cell_type": "code",
   "execution_count": null,
   "id": "d52f4232",
   "metadata": {},
   "outputs": [],
   "source": [
    "print(addition(1,7))\n",
    "print(addition(8,2))\n",
    "# print(num1, num2) variable local scope (only call within function body)\n",
    "abc = addition(20,30)\n",
    "print(abc)"
   ]
  },
  {
   "cell_type": "markdown",
   "id": "93d5a6ee",
   "metadata": {},
   "source": [
    "### defualt function "
   ]
  },
  {
   "cell_type": "code",
   "execution_count": null,
   "id": "de3a31fa",
   "metadata": {},
   "outputs": [],
   "source": [
    "# import this"
   ]
  },
  {
   "cell_type": "code",
   "execution_count": null,
   "id": "ae650263",
   "metadata": {},
   "outputs": [],
   "source": [
    "def abc_defualt():\n",
    "    print(\"Saylani Welfer Trust...\")\n",
    "    print(\"Saylani Mass IT program\")\n",
    "    print(\"Advance Artificial Ingelligent and Data Science Batch-3\")\n",
    "    print(\"9 pm to 12 am\")"
   ]
  },
  {
   "cell_type": "code",
   "execution_count": null,
   "id": "5195b89a",
   "metadata": {},
   "outputs": [],
   "source": [
    "abc_defualt()"
   ]
  },
  {
   "cell_type": "code",
   "execution_count": null,
   "id": "c9b59ee8",
   "metadata": {},
   "outputs": [],
   "source": [
    "abc_defualt()"
   ]
  },
  {
   "cell_type": "markdown",
   "id": "7186327a",
   "metadata": {},
   "source": [
    "### function with required and defualt(optional) argument value"
   ]
  },
  {
   "cell_type": "code",
   "execution_count": null,
   "id": "ea8f16b5",
   "metadata": {},
   "outputs": [],
   "source": [
    "def addtiona2(num1,num2,num3=0, num4=0, num5=0):\n",
    "    return num1 + num2 + num3 + num4 + num5\n",
    "print(addtiona2(1,8))\n",
    "print(addtiona2(2,88))\n",
    "print(addtiona2(1,8,3))\n",
    "print(addtiona2(1,8,3,9))\n",
    "print(addtiona2(1,8,3,22,90))\n",
    "# addtiona2()"
   ]
  },
  {
   "cell_type": "code",
   "execution_count": null,
   "id": "023a61d3",
   "metadata": {},
   "outputs": [],
   "source": [
    "print(addtiona2(num2=1))"
   ]
  },
  {
   "cell_type": "code",
   "execution_count": null,
   "id": "06840e71",
   "metadata": {},
   "outputs": [],
   "source": [
    "print(addtiona2(1,8,3,22,90,99))"
   ]
  },
  {
   "cell_type": "code",
   "execution_count": null,
   "id": "a5316f5a",
   "metadata": {},
   "outputs": [],
   "source": [
    "def addition3(num1,num2, *x):\n",
    "    print(num1, num2, x)\n",
    "    result = num1 + num2\n",
    "   \n",
    "    for num in x:\n",
    "        result += num\n",
    "    \n",
    "    return result\n",
    "    \n",
    "addition3(1,2,3,4,5,6,7)    "
   ]
  },
  {
   "cell_type": "markdown",
   "id": "66fa75de",
   "metadata": {},
   "source": [
    "# postional arguments"
   ]
  },
  {
   "cell_type": "code",
   "execution_count": null,
   "id": "83cb7eed",
   "metadata": {},
   "outputs": [],
   "source": [
    "def addition2(num1,num2,num3=0, num4=0, num5=0):\n",
    "    print(f\"num1 {num1} + num2 {num2} + num3 {num3} + num4 {num4}  + num5 {num5} = {num1+num2+num3+num4+num5}\")\n",
    "    return num1 + num2 + num3 + num4 + num5\n",
    "\n",
    "addition2(num3=1, num2=20, num5=5, num4=7, num1=11)"
   ]
  },
  {
   "cell_type": "code",
   "execution_count": null,
   "id": "1acece96",
   "metadata": {},
   "outputs": [],
   "source": [
    "addition2(1, 20, 5, 7, 11)"
   ]
  },
  {
   "cell_type": "code",
   "execution_count": null,
   "id": "5c592392",
   "metadata": {},
   "outputs": [],
   "source": [
    "pwd()"
   ]
  },
  {
   "cell_type": "markdown",
   "id": "a213256e",
   "metadata": {},
   "source": []
  },
  {
   "cell_type": "markdown",
   "id": "a8d7dbb6",
   "metadata": {},
   "source": [
    "## Functions Practice:\n",
    "\n",
    "1.  A functions is a block of code that are designed to do one specific job.\n",
    "\n",
    "2. There are basically four types of functions in python:\n",
    "   \n",
    "   i. Built in function.\n",
    "    \n",
    "    ii. Recursion function.\n",
    "    \n",
    "    iii. Lambda function.\n",
    "    \n",
    "    iv. User define function."
   ]
  },
  {
   "cell_type": "code",
   "execution_count": null,
   "id": "9cc3d8fc",
   "metadata": {},
   "outputs": [],
   "source": [
    "def greet_user():                     # Defining function without argument.\n",
    "    print(\"Hello!  GOod Morning\")     # Body of function.\n",
    "\n",
    "greet_user()                          # Calling function."
   ]
  },
  {
   "cell_type": "code",
   "execution_count": null,
   "id": "604f1fca",
   "metadata": {},
   "outputs": [],
   "source": [
    "def greet(username):               # Defining function with argument/Parameter.\n",
    "    print(f\"Hello, {username.title()}!\")\n",
    "\n",
    "greet(\"zeeshan\")          "
   ]
  },
  {
   "cell_type": "code",
   "execution_count": null,
   "id": "918ddb4d",
   "metadata": {},
   "outputs": [],
   "source": [
    "def display_message():\n",
    "    print(\"I am learning Python language\")\n",
    "    \n",
    "display_message()    \n"
   ]
  },
  {
   "cell_type": "code",
   "execution_count": null,
   "id": "2bc27519",
   "metadata": {},
   "outputs": [],
   "source": [
    "def favorite_book(Title):\n",
    "    print(f'My favorite book is {Title.title()}')\n",
    "    \n",
    "favorite_book(\"Khilafat or Malokyat\")    "
   ]
  },
  {
   "cell_type": "markdown",
   "id": "f06548d9",
   "metadata": {},
   "source": [
    "#### Positional Argument and keyword Argument:\n",
    "\n",
    "1. A positional argument in Python is an argument whose position matters in a function call.\n",
    "\n",
    "\n",
    "2. Keyword arguments (or named arguments) are values that, when passed into a function, are identifiable by specific parameter names. A keyword argument is preceded by a parameter and the assignment operator, = . Keyword arguments can be likened to dictionaries in that they map a value to a keyword."
   ]
  },
  {
   "cell_type": "code",
   "execution_count": null,
   "id": "965d1bf4",
   "metadata": {},
   "outputs": [],
   "source": [
    "def make_shirt(size, message):\n",
    "    print(f'My shirt size is {size} and printed message is {message}')\n",
    "    \n",
    "make_shirt(\"Large\", \"Python for Everyone\")    "
   ]
  },
  {
   "cell_type": "code",
   "execution_count": null,
   "id": "4dfc9ecd",
   "metadata": {},
   "outputs": [],
   "source": [
    "def make_shirt_1(size = 'large', message = \" i love python\" ):\n",
    "    print(f\"My shirt size is {size} and {message}.\" )\n",
    "    \n",
    "make_shirt_1(\"small\", \"hello world\")   "
   ]
  },
  {
   "cell_type": "markdown",
   "id": "5ce82710",
   "metadata": {},
   "source": [
    "#### Returning a simple value:\n"
   ]
  },
  {
   "cell_type": "code",
   "execution_count": null,
   "id": "9979b474",
   "metadata": {},
   "outputs": [],
   "source": [
    "def full_name(first_name, last_name):\n",
    "    full_name = first_name +\" \"+last_name\n",
    "    return(full_name).title()\n",
    "\n",
    "call_function = full_name(\"Muhammad\", \"Zeeshan\")\n",
    "print(call_function)"
   ]
  },
  {
   "cell_type": "code",
   "execution_count": null,
   "id": "2963ca5a",
   "metadata": {},
   "outputs": [],
   "source": [
    "print(full_name(\"Muhammad\", \"Faizan\"))"
   ]
  },
  {
   "cell_type": "code",
   "execution_count": 38,
   "id": "9182c4fc",
   "metadata": {},
   "outputs": [
    {
     "name": "stdout",
     "output_type": "stream",
     "text": [
      "Zahra  Furqan\n",
      "Zahra Patel Furqan\n"
     ]
    }
   ],
   "source": [
    "def full_name_1(first_name, last_name, middle_name = \"\"):\n",
    "    full_name_1 = f'{first_name} {middle_name} {last_name}'\n",
    "    return(full_name_1).title()\n",
    "\n",
    "print(full_name_1(\"Zahra\",\"Furqan\"))      # This is an example of keyword argument. \n",
    "print(full_name_1(\"Zahra\",\"Furqan\",\"Patel\"))"
   ]
  },
  {
   "cell_type": "code",
   "execution_count": null,
   "id": "8791b24d",
   "metadata": {},
   "outputs": [],
   "source": []
  },
  {
   "cell_type": "code",
   "execution_count": 45,
   "id": "47b5450f",
   "metadata": {},
   "outputs": [],
   "source": [
    "def store_names(first_name, last_name, middle_name=\"\"):\n",
    "    store_name = f'Hello! {first_name}{middle_name} {last_name}'\n",
    "    return store_name\n",
    "    \n"
   ]
  },
  {
   "cell_type": "code",
   "execution_count": 62,
   "id": "cec15bde",
   "metadata": {},
   "outputs": [
    {
     "data": {
      "text/plain": [
       "'Hello! Muhammad Zeeshan'"
      ]
     },
     "execution_count": 62,
     "metadata": {},
     "output_type": "execute_result"
    }
   ],
   "source": [
    "store_names('Muhammad','Zeeshan')"
   ]
  },
  {
   "cell_type": "markdown",
   "id": "11538e46",
   "metadata": {},
   "source": [
    "#### Passing many Arguments:\n"
   ]
  },
  {
   "cell_type": "code",
   "execution_count": 64,
   "id": "25dc09b1",
   "metadata": {},
   "outputs": [
    {
     "name": "stdout",
     "output_type": "stream",
     "text": [
      "Making pizza with following\n",
      "- paperoni\n",
      "Making pizza with following\n",
      "- mushrooms\n",
      "- green paper\n",
      "- extra cheese\n"
     ]
    }
   ],
   "source": [
    "def make_pizza(*toppings):\n",
    "    print('Making pizza with following')\n",
    "    for x in toppings:\n",
    "        print(f'- {x}')\n",
    "make_pizza(\"paperoni\")\n",
    "make_pizza(\"mushrooms\",\"green paper\", \"extra cheese\")"
   ]
  },
  {
   "cell_type": "code",
   "execution_count": null,
   "id": "bfca3d53",
   "metadata": {},
   "outputs": [],
   "source": []
  },
  {
   "cell_type": "code",
   "execution_count": null,
   "id": "e4acfdb7",
   "metadata": {},
   "outputs": [],
   "source": []
  },
  {
   "cell_type": "code",
   "execution_count": null,
   "id": "e7a44581",
   "metadata": {},
   "outputs": [],
   "source": []
  }
 ],
 "metadata": {
  "kernelspec": {
   "display_name": "Python 3 (ipykernel)",
   "language": "python",
   "name": "python3"
  },
  "language_info": {
   "codemirror_mode": {
    "name": "ipython",
    "version": 3
   },
   "file_extension": ".py",
   "mimetype": "text/x-python",
   "name": "python",
   "nbconvert_exporter": "python",
   "pygments_lexer": "ipython3",
   "version": "3.9.12"
  }
 },
 "nbformat": 4,
 "nbformat_minor": 5
}
