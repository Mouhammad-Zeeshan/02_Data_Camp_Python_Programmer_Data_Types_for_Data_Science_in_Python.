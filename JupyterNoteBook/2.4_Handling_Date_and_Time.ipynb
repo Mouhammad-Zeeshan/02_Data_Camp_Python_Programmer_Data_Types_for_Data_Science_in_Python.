{
 "cells": [
  {
   "cell_type": "markdown",
   "id": "6cbde5fe",
   "metadata": {},
   "source": [
    "# Date and TIme in Python:\n",
    "``` \n",
    "The datetime module supplies classes for manipulating dates and times. While date and time arithmetic is supported, the focus of the implementation is on efficient attribute extraction for output formatting and manipulation. General calendar related functions.\n",
    "```"
   ]
  },
  {
   "cell_type": "code",
   "execution_count": 1,
   "id": "c97fbc7f",
   "metadata": {},
   "outputs": [],
   "source": [
    "from datetime import datetime\n"
   ]
  },
  {
   "cell_type": "code",
   "execution_count": 2,
   "id": "7289c0ad",
   "metadata": {},
   "outputs": [
    {
     "data": {
      "text/plain": [
       "['__add__',\n",
       " '__class__',\n",
       " '__delattr__',\n",
       " '__dir__',\n",
       " '__doc__',\n",
       " '__eq__',\n",
       " '__format__',\n",
       " '__ge__',\n",
       " '__getattribute__',\n",
       " '__gt__',\n",
       " '__hash__',\n",
       " '__init__',\n",
       " '__init_subclass__',\n",
       " '__le__',\n",
       " '__lt__',\n",
       " '__ne__',\n",
       " '__new__',\n",
       " '__radd__',\n",
       " '__reduce__',\n",
       " '__reduce_ex__',\n",
       " '__repr__',\n",
       " '__rsub__',\n",
       " '__setattr__',\n",
       " '__sizeof__',\n",
       " '__str__',\n",
       " '__sub__',\n",
       " '__subclasshook__',\n",
       " 'astimezone',\n",
       " 'combine',\n",
       " 'ctime',\n",
       " 'date',\n",
       " 'day',\n",
       " 'dst',\n",
       " 'fold',\n",
       " 'fromisocalendar',\n",
       " 'fromisoformat',\n",
       " 'fromordinal',\n",
       " 'fromtimestamp',\n",
       " 'hour',\n",
       " 'isocalendar',\n",
       " 'isoformat',\n",
       " 'isoweekday',\n",
       " 'max',\n",
       " 'microsecond',\n",
       " 'min',\n",
       " 'minute',\n",
       " 'month',\n",
       " 'now',\n",
       " 'replace',\n",
       " 'resolution',\n",
       " 'second',\n",
       " 'strftime',\n",
       " 'strptime',\n",
       " 'time',\n",
       " 'timestamp',\n",
       " 'timetuple',\n",
       " 'timetz',\n",
       " 'today',\n",
       " 'toordinal',\n",
       " 'tzinfo',\n",
       " 'tzname',\n",
       " 'utcfromtimestamp',\n",
       " 'utcnow',\n",
       " 'utcoffset',\n",
       " 'utctimetuple',\n",
       " 'weekday',\n",
       " 'year']"
      ]
     },
     "execution_count": 2,
     "metadata": {},
     "output_type": "execute_result"
    }
   ],
   "source": [
    "# MEthods on date time:\n",
    "dir(datetime)"
   ]
  },
  {
   "cell_type": "code",
   "execution_count": 3,
   "id": "f073ac34",
   "metadata": {},
   "outputs": [
    {
     "name": "stdout",
     "output_type": "stream",
     "text": [
      "['15/04/2011', '26/062017', '11/03/1999']\n"
     ]
    }
   ],
   "source": [
    "date_list = ['15/04/2011', '26/062017', '11/03/1999']\n",
    "print(date_list)"
   ]
  },
  {
   "cell_type": "markdown",
   "id": "917a1056",
   "metadata": {},
   "source": [
    "## Date Time format Codes: "
   ]
  },
  {
   "cell_type": "raw",
   "id": "2f95a718",
   "metadata": {},
   "source": [
    "\n",
    "\n",
    "Directive\t  Description\t          Example\t\n",
    "%a\t          Weekday,  short version\tWed\t\n",
    "%A\t          Weekday,  full version\tWednesday\t\n",
    "%w\t          Weekday  as a number 0-6, 0 is Sunday\t3\t\n",
    "%d\t          Day of month 01-31\t31\t\n",
    "%b\t          Month name, short version\tDec\t\n",
    "%B\t          Month name, full version\tDecember\t\n",
    "%m\t          Month as a number 01-12\t12\t\n",
    "%y\t          Year, short version, without century\t18\t\n",
    "%Y\t          Year, full version\t2018\t\n",
    "%H\t          Hour 00-23\t17\t\n",
    "%I\t          Hour 00-12\t05\t\n",
    "%p\t          AM/PM\tPM\t\n",
    "%M\t          Minute 00-59\t41\t\n",
    "%S\t          Second 00-59\t08\t\n",
    "%f\t          Microsecond 000000-999999\t548513\t\n",
    "%z\t          UTC offset\t+0100\t\n",
    "%Z\t          Timezone\tCST\t\n",
    "%j\t          Day number of year 001-366\t365\t\n",
    "%U\t         Week number of year, Sunday as the first day of week, 00-53\t52\t\n",
    "%W\t         Week number of year, Monday as the first day of week, 00-53\t52\t\n",
    "%c\t         Local version of date and time\tMon Dec 31 17:41:00 2018\t\n",
    "%C\t         Century\t20\t\n",
    "%x\t         Local version of date\t12/31/18\t\n",
    "%X\t         Local version of time\t17:41:00\t\n",
    "%%\t         A % character\t%\t\n",
    "%G\t         ISO 8601 year\t2018\t\n",
    "%u\t         ISO 8601 weekday (1-7)\t1\t\n",
    "%V\t         ISO 8601 weeknumber (01-53)\t01\t\n"
   ]
  },
  {
   "cell_type": "code",
   "execution_count": 4,
   "id": "f8a11d4b",
   "metadata": {},
   "outputs": [],
   "source": [
    "## Adding and Subtracting Date and Time:\n"
   ]
  },
  {
   "cell_type": "code",
   "execution_count": 5,
   "id": "a923dcc2",
   "metadata": {},
   "outputs": [
    {
     "name": "stdout",
     "output_type": "stream",
     "text": [
      "2022-07-03 22:23:40.930294\n"
     ]
    }
   ],
   "source": [
    "x =  datetime.now()\n",
    "print(x)"
   ]
  },
  {
   "cell_type": "code",
   "execution_count": 6,
   "id": "8649cb1e",
   "metadata": {},
   "outputs": [
    {
     "name": "stdout",
     "output_type": "stream",
     "text": [
      "2022-07-03 17:23:41.053182\n"
     ]
    }
   ],
   "source": [
    "y = datetime.utcnow()\n",
    "print(y)"
   ]
  },
  {
   "cell_type": "code",
   "execution_count": 7,
   "id": "0c0defbd",
   "metadata": {},
   "outputs": [],
   "source": [
    "from datetime import timedelta"
   ]
  },
  {
   "cell_type": "code",
   "execution_count": 8,
   "id": "71147ff7",
   "metadata": {},
   "outputs": [
    {
     "name": "stdout",
     "output_type": "stream",
     "text": [
      "4:59:59.877112\n"
     ]
    }
   ],
   "source": [
    "print(x-y) #Difference between two dates:\n"
   ]
  },
  {
   "cell_type": "markdown",
   "id": "9608c0f6",
   "metadata": {},
   "source": [
    "# Pendulum Library for Date & Time"
   ]
  },
  {
   "cell_type": "code",
   "execution_count": 2,
   "id": "9b96f9f3",
   "metadata": {},
   "outputs": [
    {
     "name": "stdout",
     "output_type": "stream",
     "text": [
      "Requirement already satisfied: pendulum in c:\\users\\muhammad zeeshan\\anaconda3\\lib\\site-packages (2.1.2)\n",
      "Requirement already satisfied: pytzdata>=2020.1 in c:\\users\\muhammad zeeshan\\anaconda3\\lib\\site-packages (from pendulum) (2020.1)\n",
      "Requirement already satisfied: python-dateutil<3.0,>=2.6 in c:\\users\\muhammad zeeshan\\anaconda3\\lib\\site-packages (from pendulum) (2.8.2)\n",
      "Requirement already satisfied: six>=1.5 in c:\\users\\muhammad zeeshan\\anaconda3\\lib\\site-packages (from python-dateutil<3.0,>=2.6->pendulum) (1.16.0)\n"
     ]
    }
   ],
   "source": [
    "!pip install pendulum\n"
   ]
  },
  {
   "cell_type": "code",
   "execution_count": 5,
   "id": "04e16156",
   "metadata": {},
   "outputs": [],
   "source": [
    "import pendulum as pdm"
   ]
  },
  {
   "cell_type": "code",
   "execution_count": 6,
   "id": "3d2fa84a",
   "metadata": {},
   "outputs": [
    {
     "data": {
      "text/plain": [
       "DateTime(2022, 7, 4, 19, 16, 39, 41842, tzinfo=Timezone('Asia/Karachi'))"
      ]
     },
     "execution_count": 6,
     "metadata": {},
     "output_type": "execute_result"
    }
   ],
   "source": [
    "pdm.now()"
   ]
  },
  {
   "cell_type": "code",
   "execution_count": null,
   "id": "d2f336a5",
   "metadata": {},
   "outputs": [],
   "source": []
  }
 ],
 "metadata": {
  "kernelspec": {
   "display_name": "Python 3 (ipykernel)",
   "language": "python",
   "name": "python3"
  },
  "language_info": {
   "codemirror_mode": {
    "name": "ipython",
    "version": 3
   },
   "file_extension": ".py",
   "mimetype": "text/x-python",
   "name": "python",
   "nbconvert_exporter": "python",
   "pygments_lexer": "ipython3",
   "version": "3.9.12"
  }
 },
 "nbformat": 4,
 "nbformat_minor": 5
}
